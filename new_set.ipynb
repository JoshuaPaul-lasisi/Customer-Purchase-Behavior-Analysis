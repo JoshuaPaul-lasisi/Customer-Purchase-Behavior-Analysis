{
 "cells": [
  {
   "cell_type": "code",
   "execution_count": null,
   "metadata": {},
   "outputs": [],
   "source": [
    "import pandas as pd\n",
    "import numpy as np\n",
    "from sklearn.model_selection import train_test_split\n",
    "from sklearn.preprocessing import LabelEncoder, OneHotEncoder\n",
    "from sklearn.linear_model import LogisticRegression\n",
    "from sklearn.tree import DecisionTreeClassifier\n",
    "from sklearn.ensemble import RandomForestClassifier\n",
    "from sklearn.svm import SVC\n",
    "from sklearn.metrics import accuracy_score, precision_score, recall_score, f1_score"
   ]
  },
  {
   "cell_type": "code",
   "execution_count": null,
   "metadata": {},
   "outputs": [],
   "source": [
    "df = pd.read_csv(\"./data/supermarket_sales.csv\")"
   ]
  },
  {
   "cell_type": "code",
   "execution_count": null,
   "metadata": {},
   "outputs": [],
   "source": [
    "# Handle missing values (if any)\n",
    "df.fillna(method='ffill', inplace=True)\n",
    "\n",
    "# Encode categorical features\n",
    "le = LabelEncoder()\n",
    "df['Customer type'] = le.fit_transform(df['Customer type'])\n",
    "df['Gender'] = le.fit_transform(df['Gender'])\n",
    "df['Product line'] = le.fit_transform(df['Product line'])\n",
    "df['Branch'] = le.fit_transform(df['Branch'])\n",
    "df['City'] = le.fit_transform(df['City'])\n",
    "df['Payment'] = le.fit_transform(df['Payment'])\n",
    "\n",
    "# Create binary target variable\n",
    "df['Above_average'] = (df['Total'] > df['Total'].mean()).astype(int)\n",
    "\n",
    "# Drop unnecessary columns (if any)\n",
    "df.drop(['Invoice ID', 'Date', 'Time'], axis=1, inplace=True)"
   ]
  },
  {
   "cell_type": "code",
   "execution_count": null,
   "metadata": {},
   "outputs": [],
   "source": [
    "X = df.drop('Above_average', axis=1)\n",
    "y = df['Above_average']\n",
    "X_train, X_test, y_train, y_test = train_test_split(X, y, test_size=0.2, random_state=42)"
   ]
  },
  {
   "cell_type": "code",
   "execution_count": null,
   "metadata": {},
   "outputs": [],
   "source": [
    "# Logistic Regression\n",
    "model1 = LogisticRegression()\n",
    "model1.fit(X_train, y_train)\n",
    "\n",
    "# Decision Tree\n",
    "model2 = DecisionTreeClassifier()\n",
    "model2.fit(X_train, y_train)\n",
    "\n",
    "# Random Forest\n",
    "model3 = RandomForestClassifier()\n",
    "model3.fit(X_train, y_train)\n",
    "\n",
    "# SVM\n",
    "model4 = SVC()\n",
    "model4.fit(X_train, y_train)"
   ]
  },
  {
   "cell_type": "code",
   "execution_count": null,
   "metadata": {},
   "outputs": [],
   "source": [
    "models = [model1, model2, model3, model4]\n",
    "model_names = ['Logistic Regression', 'Decision Tree', 'Random Forest', 'SVM']\n",
    "\n",
    "for model, name in zip(models, model_names):\n",
    "    y_pred = model.predict(X_test)\n",
    "    accuracy = accuracy_score(y_test, y_pred)\n",
    "    precision = precision_score(y_test, y_pred)\n",
    "    recall = recall_score(y_test, y_pred)\n",
    "    f1 = f1_score(y_test, y_pred)\n",
    "    print(f\"{name}:\")\n",
    "    print(f\"Accuracy: {accuracy:.2f}\")\n",
    "    print(f\"Precision: {precision:.2f}\")\n",
    "    print(f\"Recall: {recall:.2f}\")\n",
    "    print(f\"F1-score: {f1:.2f}\")\n",
    "    print()"
   ]
  },
  {
   "cell_type": "code",
   "execution_count": null,
   "metadata": {},
   "outputs": [],
   "source": [
    "# Example using Random Forest\n",
    "importances = model3.feature_importances_\n",
    "features = X.columns\n",
    "sorted_indices = np.argsort(importances)[::-1]\n",
    "\n",
    "for i in sorted_indices:\n",
    "    print(f\"{features[i]}: {importances[i]:.2f}\")"
   ]
  },
  {
   "cell_type": "code",
   "execution_count": null,
   "metadata": {},
   "outputs": [],
   "source": []
  }
 ],
 "metadata": {
  "language_info": {
   "name": "python"
  }
 },
 "nbformat": 4,
 "nbformat_minor": 2
}
